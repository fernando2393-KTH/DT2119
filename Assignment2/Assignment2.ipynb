{
 "cells": [
  {
   "cell_type": "markdown",
   "metadata": {
    "collapsed": true,
    "pycharm": {
     "name": "#%% md\n"
    }
   },
   "source": [
    "## <p style=\"text-align: center\">DT2119 Lab2: Hidden Markov Models with Gaussian Emissions\n",
    "</p>"
   ]
  },
  {
   "cell_type": "markdown",
   "metadata": {
    "pycharm": {
     "name": "#%% md\n"
    }
   },
   "source": [
    "The following packages and files will be used to accomplish the different tasks."
   ]
  },
  {
   "cell_type": "code",
   "execution_count": 1,
   "metadata": {
    "pycharm": {
     "is_executing": false,
     "name": "#%%\n"
    }
   },
   "outputs": [],
   "source": [
    "from lab2_tools import *\n",
    "from prondict import prondict\n",
    "import matplotlib.pyplot as plt\n",
    "import numpy as np\n",
    "from tqdm import tqdm\n"
   ]
  },
  {
   "cell_type": "markdown",
   "metadata": {},
   "source": [
    "The following are all the implemented functions which will be used\n",
    "to accomplish the different tasks."
   ]
  },
  {
   "cell_type": "code",
   "execution_count": 23,
   "metadata": {
    "pycharm": {
     "is_executing": false,
     "name": "#%%\n"
    }
   },
   "outputs": [],
   "source": [
    "\n",
    "def concatTwoHMMs(hmm1, hmm2):\n",
    "    \"\"\" Concatenates 2 HMM models\n",
    "\n",
    "    Args:\n",
    "       hmm1, hmm2: two dictionaries with the following keys:\n",
    "           - name: phonetic or word symbol corresponding to the model\n",
    "           - startprob: M+1 array with priori probability of state\n",
    "           - transmat: (M+1)x(M+1) transition matrix\n",
    "           - means: MxD array of mean vectors\n",
    "           - covars: MxD array of variances\n",
    "\n",
    "    D is the dimension of the feature vectors\n",
    "    M is the number of emitting states in each HMM model (could be different for each)\n",
    "\n",
    "    Output\n",
    "       dictionary with the same keys as the input but concatenated models:\n",
    "          startprob: K+1 array with priori probability of state\n",
    "          transmat: (K+1)x(K+1) transition matrix\n",
    "             means: KxD array of mean vectors\n",
    "            covars: KxD array of variances\n",
    "\n",
    "    K is the sum of the number of emitting states from the input models\n",
    "   \n",
    "    Example:\n",
    "       twoHMMs = concatHMMs(phoneHMMs['sil'], phoneHMMs['ow'])\n",
    "\n",
    "    See also: the concatenating_hmms.pdf document in the lab package\n",
    "    \"\"\"\n",
    "\n",
    "    concat_hmm = {}\n",
    "    startprob = np.zeros(hmm1['startprob'].shape[0] + hmm2['startprob'].shape[0] - 1)\n",
    "    for i in range(startprob.shape[0]):\n",
    "        if i < hmm1['startprob'].shape[0] - 1:\n",
    "            startprob[i] = hmm1['startprob'][i]\n",
    "        else:\n",
    "            startprob[i] = hmm1['startprob'][-1] * hmm2['startprob'][i - (hmm1['startprob'].shape[0] - 1)]\n",
    "\n",
    "    transmat = np.zeros((startprob.shape[0], startprob.shape[0]))\n",
    "    for i in range(transmat.shape[0] - 1):\n",
    "        for j in range(transmat.shape[1]):\n",
    "            if i < hmm1['transmat'].shape[0] - 1 and j < hmm1['transmat'].shape[1] - 1:  # Copy of hmm1 values\n",
    "                transmat[i, j] = hmm1['transmat'][i, j]\n",
    "            elif i < hmm1['transmat'].shape[0] - 1:  # Product of the last value of hmm1 and values of hmm2\n",
    "                transmat[i, j] = hmm1['transmat'][i, -1] * hmm2['startprob'][j - (hmm1['transmat'].shape[1] - 1)]\n",
    "            elif j >= hmm1['transmat'].shape[1] - 1:  # Copy of hmm2 values\n",
    "                transmat[i, j] = hmm2['transmat'][i - (hmm1['transmat'].shape[0] - 1),\n",
    "                                                  j - (hmm1['transmat'].shape[1] - 1)]\n",
    "    transmat[-1, -1] = 1  # Assign value 1 to the last transition\n",
    "\n",
    "    means = np.vstack((hmm1['means'], hmm2['means']))\n",
    "    covars = np.vstack((hmm1['covars'], hmm2['covars']))\n",
    "\n",
    "    concat_hmm['startprob'] = startprob\n",
    "    concat_hmm['transmat'] = transmat\n",
    "    concat_hmm['means'] = means\n",
    "    concat_hmm['covars'] = covars\n",
    "\n",
    "    return concat_hmm\n",
    "\n",
    "\n",
    "# this is already implemented, but based on concat2HMMs() above\n",
    "def concatHMMs(hmmmodels, namelist):\n",
    "    \"\"\" Concatenates HMM models in a left to right manner\n",
    "\n",
    "    Args:\n",
    "       hmmmodels: dictionary of models indexed by model name. \n",
    "       hmmmodels[name] is a dictionaries with the following keys:\n",
    "           - name: phonetic or word symbol corresponding to the model\n",
    "           - startprob: M+1 array with priori probability of state\n",
    "           - transmat: (M+1)x(M+1) transition matrix\n",
    "           - means: MxD array of mean vectors\n",
    "           - covars: MxD array of variances\n",
    "       namelist: list of model names that we want to concatenate\n",
    "\n",
    "    D is the dimension of the feature vectors\n",
    "    M is the number of emitting states in each HMM model (could be\n",
    "      different in each model)\n",
    "\n",
    "    Output\n",
    "       combinedhmm: dictionary with the same keys as the input but\n",
    "                    combined models:\n",
    "         startprob: K+1 array with priori probability of state\n",
    "          transmat: (K+1)x(K+1) transition matrix\n",
    "             means: KxD array of mean vectors\n",
    "            covars: KxD array of variances\n",
    "\n",
    "    K is the sum of the number of emitting states from the input models\n",
    "\n",
    "    Example:\n",
    "       wordHMMs['o'] = concatHMMs(phoneHMMs, ['sil', 'ow', 'sil'])\n",
    "    \"\"\"\n",
    "    concat = hmmmodels[namelist[0]]\n",
    "    for idx in range(1, len(namelist)):\n",
    "        concat = concatTwoHMMs(concat, hmmmodels[namelist[idx]])\n",
    "\n",
    "    return concat\n",
    "\n",
    "\n",
    "def gmmloglik(log_emlik, weights):\n",
    "    \"\"\"Log Likelihood for a GMM model based on Multivariate Normal Distribution.\n",
    "\n",
    "    Args:\n",
    "        log_emlik: array like, shape (N, K).\n",
    "            contains the log likelihoods for each of N observations and\n",
    "            each of K distributions\n",
    "        weights:   weight vector for the K components in the mixture\n",
    "\n",
    "    Output:\n",
    "        gmmloglik: scalar, log likelihood of data given the GMM model.\n",
    "    \"\"\"\n",
    "\n",
    "\n",
    "def forward(log_emlik, log_startprob, log_transmat):\n",
    "    \"\"\"Forward (alpha) probabilities in log domain.\n",
    "\n",
    "    Args:\n",
    "        log_emlik: NxM array of emission log likelihoods, N frames, M states\n",
    "        log_startprob: log probability to start in state i\n",
    "        log_transmat: log transition probability from state i to j\n",
    "\n",
    "    Output:\n",
    "        forward_prob: NxM array of forward log probabilities for each of the M states in the model\n",
    "    \"\"\"\n",
    "\n",
    "    forward_prob = np.zeros(log_emlik.shape)\n",
    "    forward_prob[0, :] = log_startprob[:-1] + log_emlik[0]  # Use all states but the last one --> ending state\n",
    "\n",
    "    for n in range(1, forward_prob.shape[0]):\n",
    "        for j in range(forward_prob.shape[1]):\n",
    "            forward_prob[n, j] = logsumexp(forward_prob[n - 1, :] + log_transmat[:-1, j]) + log_emlik[n, j]\n",
    "\n",
    "    return forward_prob\n",
    "\n",
    "\n",
    "def backward(log_emlik, log_transmat):\n",
    "    \"\"\"Backward (beta) probabilities in log domain.\n",
    "\n",
    "    Args:\n",
    "        log_emlik: NxM array of emission log likelihoods, N frames, M states\n",
    "        log_transmat: transition log probability from state i to j\n",
    "\n",
    "    Output:\n",
    "        backward_prob: NxM array of backward log probabilities for each of the M states in the model\n",
    "    \"\"\"\n",
    "\n",
    "    backward_prob = np.zeros(log_emlik.shape)\n",
    "\n",
    "    for n in reversed(range(backward_prob.shape[0] - 1)):\n",
    "        for i in range(backward_prob.shape[1]):\n",
    "            backward_prob[n, i] = logsumexp(log_transmat[i, :-1] + log_emlik[n + 1, :] + backward_prob[n + 1, :])\n",
    "\n",
    "    return backward_prob\n",
    "\n",
    "\n",
    "def viterbi(log_emlik, log_startprob, log_transmat, force_final_state=True):\n",
    "    \"\"\"Viterbi path.\n",
    "\n",
    "    Args:\n",
    "        log_emlik: NxM array of emission log likelihoods, N frames, M states\n",
    "        log_startprob: log probability to start in state i\n",
    "        log_transmat: transition log probability from state i to j\n",
    "        force_final_state: if True, start backtracking from the final state in\n",
    "                  the model, instead of the best state at the last time step\n",
    "\n",
    "    Output:\n",
    "        viterbi_loglik: log likelihood of the best path\n",
    "        viterbi_path: best path\n",
    "    \"\"\"\n",
    "\n",
    "    viterbi_loglik = np.zeros(log_emlik.shape)\n",
    "    viterbi_b_mat = np.zeros(log_emlik.shape, dtype=int)\n",
    "\n",
    "    viterbi_loglik[0] = log_startprob[:-1] + log_emlik[0]\n",
    "    for n in range(1, viterbi_loglik.shape[0]):\n",
    "        for j in range(viterbi_loglik.shape[1]):\n",
    "            viterbi_loglik[n, j] = np.max(viterbi_loglik[n - 1, :] + log_transmat[:-1, j]) + log_emlik[n, j]\n",
    "            viterbi_b_mat[n, j] = np.argmax(viterbi_loglik[n - 1, :] + log_transmat[:-1, j])\n",
    "\n",
    "    viterbi_path = [np.argmax(viterbi_b_mat[-1])]\n",
    "    for n in reversed(range(viterbi_b_mat.shape[0] - 1)):\n",
    "        viterbi_path.append(viterbi_b_mat[n, viterbi_path[-1]])\n",
    "    viterbi_path.reverse()\n",
    "\n",
    "    return np.max(viterbi_loglik[-1]), np.array(viterbi_path)\n",
    "\n",
    "\n",
    "def statePosteriors(log_alpha, log_beta):\n",
    "    \"\"\"State posterior (gamma) probabilities in log domain.\n",
    "\n",
    "    Args:\n",
    "        log_alpha: NxM array of log forward (alpha) probabilities\n",
    "        log_beta: NxM array of log backward (beta) probabilities\n",
    "    where N is the number of frames, and M the number of states\n",
    "\n",
    "    Output:\n",
    "        log_gamma: NxM array of gamma probabilities for each of the M states in the model\n",
    "    \"\"\"\n",
    "\n",
    "    log_gamma = log_alpha + log_beta - logsumexp(log_alpha[log_alpha.shape[0] - 1])\n",
    "\n",
    "    return log_gamma\n",
    "\n",
    "\n",
    "def updateMeanAndVar(x, log_gamma, variance_floor=5.0):\n",
    "    \"\"\" Update Gaussian parameters with diagonal covariance\n",
    "\n",
    "    Args:\n",
    "         x: NxD array of feature vectors\n",
    "         log_gamma: NxM state posterior probabilities in log domain\n",
    "         variance_floor: minimum allowed variance scalar\n",
    "    were N is the lenght of the observation sequence, D is the\n",
    "    dimensionality of the feature vectors and M is the number of\n",
    "    states in the model\n",
    "\n",
    "    Outputs:\n",
    "         means: MxD mean vectors for each state\n",
    "         covars: MxD covariance (variance) vectors for each state\n",
    "    \"\"\"\n",
    "\n",
    "    gamma = np.exp(log_gamma)\n",
    "\n",
    "    means = np.zeros((log_gamma.shape[1], x.shape[1]))\n",
    "    covars = np.zeros(means.shape)\n",
    "    for k in range(means.shape[0]):\n",
    "        means[k] = np.sum(gamma[:, k][:, np.newaxis] * x, axis=0) / np.sum(gamma[:, k])\n",
    "        covars[k] = np.sum(gamma[:, k][:, np.newaxis] * np.power(x - means[k], 2), axis=0) / np.sum(gamma[:, k])\n",
    "    covars[covars < variance_floor] = variance_floor  # Transform values below threshold\n",
    "\n",
    "    return means, covars\n",
    "    "
   ]
  },
  {
   "cell_type": "markdown",
   "metadata": {
    "pycharm": {
     "name": "#%% md\n"
    }
   },
   "source": [
    "### Here starts the program main code:\n",
    "Load of the data samples"
   ]
  },
  {
   "cell_type": "code",
   "execution_count": 24,
   "metadata": {
    "pycharm": {
     "is_executing": false,
     "name": "#%%\n"
    }
   },
   "outputs": [],
   "source": [
    "np.seterr(divide='ignore')  # Suppress divide by zero warning\n",
    "example = np.load('lab2_example.npz', allow_pickle=True)['example'].item()\n",
    "phone_hhms = np.load('lab2_models_all.npz', allow_pickle=True)['phoneHMMs'].item()"
   ]
  },
  {
   "cell_type": "markdown",
   "metadata": {
    "pycharm": {
     "name": "#%% md\n"
    }
   },
   "source": [
    " Concatenate all digit hmms"
   ]
  },
  {
   "cell_type": "code",
   "execution_count": 25,
   "metadata": {
    "pycharm": {
     "is_executing": false,
     "name": "#%%\n"
    }
   },
   "outputs": [],
   "source": [
    "word_hmms = {}\n",
    "for digit in prondict.keys():\n",
    "    word_hmms[digit] = concatHMMs(phone_hhms, ['sil'] + prondict[digit] + ['sil'])\n",
    "\n",
    "data = np.load('lab2_data.npz', allow_pickle=True)['data']\n",
    "best_model = {}\n",
    "acc_count = 0"
   ]
  },
  {
   "cell_type": "markdown",
   "metadata": {
    "pycharm": {
     "name": "#%% md\n"
    }
   },
   "source": [
    "Forward algorithm:"
   ]
  },
  {
   "cell_type": "code",
   "execution_count": 26,
   "metadata": {
    "pycharm": {
     "is_executing": false,
     "name": "#%%\n"
    },
    "scrolled": true
   },
   "outputs": [
    {
     "name": "stdout",
     "output_type": "stream",
     "text": [
      "The accuracy of the predictions has been: 97.73%\n"
     ]
    },
    {
     "data": {
      "image/png": "[encoded data removed]",
      "text/plain": [
       "<Figure size 432x288 with 1 Axes>"
      ]
     },
     "metadata": {
      "needs_background": "light"
     },
     "output_type": "display_data"
    }
   ],
   "source": [
    "for idx, dt in enumerate(data):  # Iterate over data samples\n",
    "    maxloglik = None\n",
    "    for digit in word_hmms.keys():  # Iterate over hmms\n",
    "        obsloglik = log_multivariate_normal_density_diag(dt['lmfcc'], word_hmms[digit]['means'],\n",
    "                                                         word_hmms[digit]['covars'])\n",
    "        logalpha = forward(obsloglik, np.log(word_hmms[digit]['startprob']),\n",
    "                           np.log(word_hmms[digit]['transmat']))\n",
    "        loglik = logsumexp(logalpha[-1])\n",
    "        if maxloglik is None or maxloglik < loglik:  # If better likelihood found\n",
    "            best_model[idx] = digit  # Set most probable model\n",
    "            maxloglik = loglik  # Update max log likelihood\n",
    "    if dt['digit'] == best_model[idx]:\n",
    "        acc_count += 1\n",
    "        \n",
    "print(\"The accuracy of the predictions has been: \" + str(np.round(acc_count / len(data) * 100, 2)) + \"%\")\n",
    "np.seterr(divide='ignore')  # Suppress divide by zero warning\n",
    "logalpha = forward(example['obsloglik'], np.log(word_hmms['o']['startprob']), np.log(word_hmms['o']['transmat']))\n",
    "vloglik, vpath = viterbi(example['obsloglik'], np.log(word_hmms['o']['startprob']),\n",
    "                         np.log(word_hmms['o']['transmat']))\n",
    "plt.pcolormesh(logalpha.T)\n",
    "plt.plot(vpath.T, color=\"red\")\n",
    "plt.show()\n"
   ]
  },
  {
   "cell_type": "markdown",
   "metadata": {
    "pycharm": {
     "name": "#%% md\n"
    }
   },
   "source": [
    "Viterbi algorithm:"
   ]
  },
  {
   "cell_type": "code",
   "execution_count": 28,
   "metadata": {
    "pycharm": {
     "is_executing": false,
     "name": "#%%\n"
    }
   },
   "outputs": [
    {
     "name": "stdout",
     "output_type": "stream",
     "text": [
      "The accuracy of the predictions has been: 100.0%\n"
     ]
    }
   ],
   "source": [
    "best_model = {}\n",
    "acc_count = 0\n",
    "for idx, dt in enumerate(data):  # Iterate over data samples\n",
    "    maxloglik = None\n",
    "    for digit in word_hmms.keys():  # Iterate over hmms\n",
    "        obsloglik = log_multivariate_normal_density_diag(dt['lmfcc'], word_hmms[digit]['means'],\n",
    "                                                         word_hmms[digit]['covars'])\n",
    "        vloglik, vpath = viterbi(obsloglik, np.log(word_hmms[digit]['startprob']),\n",
    "                                 np.log(word_hmms[digit]['transmat']))\n",
    "        if maxloglik is None or maxloglik < vloglik:  # If better likelihood found\n",
    "            best_model[idx] = digit  # Set most probable model\n",
    "            maxloglik = vloglik  # Update max log likelihood\n",
    "    if dt['digit'] == best_model[idx]:\n",
    "        acc_count += 1\n",
    "    # print(\"The best model for utterance \" + str(idx) + \" was hmm: \" + str(best_model[idx]))\n",
    "    # print(\"The real digit of utterance \" + str(idx) + \" was digit: \" + str(dt['digit']) + \"\\n\")\n",
    "print(\"The accuracy of the predictions has been: \" + str(np.round(acc_count / len(data) * 100, 2)) + \"%\")"
   ]
  },
  {
   "cell_type": "markdown",
   "metadata": {
    "pycharm": {
     "name": "#%% md\n"
    }
   },
   "source": [
    "Baum-Welch algorithm:"
   ]
  },
  {
   "cell_type": "code",
   "execution_count": 29,
   "metadata": {
    "pycharm": {
     "is_executing": false,
     "name": "#%%\n"
    }
   },
   "outputs": [
    {
     "name": "stdout",
     "output_type": "stream",
     "text": [
      "Trying model o\n",
      "Log-likelihood: -6318.836143374648. Number of iterations until convergence: 5\n",
      "Trying model z\n",
      "Log-likelihood: -5833.270624049372. Number of iterations until convergence: 5\n",
      "Trying model 1\n",
      "Log-likelihood: -5903.338261970013. Number of iterations until convergence: 10\n",
      "Trying model 2\n",
      "Log-likelihood: -6190.713363055121. Number of iterations until convergence: 5\n",
      "Trying model 3\n",
      "Log-likelihood: -6012.101687040111. Number of iterations until convergence: 4\n",
      "Trying model 4\n",
      "Log-likelihood: -5994.0508169008335. Number of iterations until convergence: 5\n",
      "Trying model 5\n",
      "Log-likelihood: -5963.9224257326605. Number of iterations until convergence: 5\n",
      "Trying model 6\n",
      "Log-likelihood: -5884.528943767898. Number of iterations until convergence: 5\n",
      "Trying model 7\n",
      "Log-likelihood: -5682.161964496247. Number of iterations until convergence: 5\n",
      "Trying model 8\n",
      "Log-likelihood: -6185.971631860034. Number of iterations until convergence: 4\n",
      "Trying model 9\n",
      "Log-likelihood: -5953.968391594922. Number of iterations until convergence: 5\n",
      "The best log-likelihood is: -5682.161964496247. It corresponds to the model 7\n"
     ]
    }
   ],
   "source": [
    "best_loglik = None\n",
    "best_model = None\n",
    "for digit in word_hmms.keys():  # Iterate over hmms\n",
    "    print(\"Trying model \" + str(digit))\n",
    "    means = word_hmms[digit]['means']\n",
    "    covars = word_hmms[digit]['covars']\n",
    "    obsloglik = log_multivariate_normal_density_diag(data[10]['lmfcc'], means, covars)\n",
    "    vloglik = 0\n",
    "    newloglik = viterbi(obsloglik, np.log(word_hmms[digit]['startprob']),\n",
    "                        np.log(word_hmms[digit]['transmat']))[0]\n",
    "    it = 0\n",
    "    while it < 20 and abs(newloglik - vloglik) > 1.0:\n",
    "        vloglik = newloglik  # Update value of log-likelihood\n",
    "        forward_prob = forward(obsloglik, np.log(word_hmms[digit]['startprob']),\n",
    "                               np.log(word_hmms[digit]['transmat']))\n",
    "        backward_prob = backward(obsloglik, np.log(word_hmms[digit]['transmat']))\n",
    "        log_gamma = statePosteriors(forward_prob, backward_prob)\n",
    "        means, covars = updateMeanAndVar(data[10]['lmfcc'], log_gamma)\n",
    "        obsloglik = log_multivariate_normal_density_diag(data[10]['lmfcc'], means, covars)\n",
    "        newloglik = viterbi(obsloglik, np.log(word_hmms[digit]['startprob']),\n",
    "                            np.log(word_hmms[digit]['transmat']))[0]\n",
    "        it += 1  # Update number of iterations\n",
    "    print(\"Log-likelihood: \" + str(newloglik) + \". Number of iterations until convergence: \" + str(it))\n",
    "    if best_loglik is None or newloglik > best_loglik:\n",
    "        best_loglik = newloglik\n",
    "        best_model = digit\n",
    "print(\"The best log-likelihood is: \" + str(best_loglik) + \". It corresponds to the model \" + str(best_model))"
   ]
  },
  {
   "cell_type": "code",
   "execution_count": null,
   "metadata": {},
   "outputs": [],
   "source": []
  }
 ],
 "metadata": {
  "kernelspec": {
   "display_name": "Python 3",
   "language": "python",
   "name": "python3"
  },
  "language_info": {
   "codemirror_mode": {
    "name": "ipython",
    "version": 3
   },
   "file_extension": ".py",
   "mimetype": "text/x-python",
   "name": "python",
   "nbconvert_exporter": "python",
   "pygments_lexer": "ipython3",
   "version": "3.7.3"
  },
  "pycharm": {
   "stem_cell": {
    "cell_type": "raw",
    "metadata": {
     "collapsed": false
    },
    "source": []
   }
  }
 },
 "nbformat": 4,
 "nbformat_minor": 1
}
